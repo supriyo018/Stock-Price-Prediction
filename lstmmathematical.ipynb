{
 "cells": [
  {
   "cell_type": "code",
   "execution_count": 1,
   "id": "f9db9929-dd52-4b55-8f74-ab49174a7aea",
   "metadata": {
    "scrolled": true
   },
   "outputs": [
    {
     "name": "stdout",
     "output_type": "stream",
     "text": [
      "Final hidden state: [[-0.16382317]\n",
      " [ 0.0590587 ]\n",
      " [-0.02143757]\n",
      " [-0.01123917]\n",
      " [ 0.02095801]]\n"
     ]
    }
   ],
   "source": [
    "import numpy as np\n",
    "\n",
    "# Sigmoid activation function\n",
    "def sigmoid(x):\n",
    "    return 1 / (1 + np.exp(-x))\n",
    "\n",
    "# Hyperbolic tangent activation function\n",
    "def tanh(x):\n",
    "    return np.tanh(x)\n",
    "\n",
    "# LSTM class\n",
    "class LSTM:\n",
    "    def __init__(self, input_size, hidden_size):\n",
    "        # Weight matrices for gates\n",
    "        self.W_i = np.random.randn(hidden_size, input_size + hidden_size)  # Input gate\n",
    "        self.W_f = np.random.randn(hidden_size, input_size + hidden_size)  # Forget gate\n",
    "        self.W_o = np.random.randn(hidden_size, input_size + hidden_size)  # Output gate\n",
    "        self.W_c = np.random.randn(hidden_size, input_size + hidden_size)  # Candidate cell state\n",
    "        \n",
    "        # Bias terms\n",
    "        self.b_i = np.zeros((hidden_size, 1))\n",
    "        self.b_f = np.zeros((hidden_size, 1))\n",
    "        self.b_o = np.zeros((hidden_size, 1))\n",
    "        self.b_c = np.zeros((hidden_size, 1))\n",
    "        \n",
    "        # Initialize hidden state and cell state\n",
    "        self.h_t = np.zeros((hidden_size, 1))  # Hidden state\n",
    "        self.C_t = np.zeros((hidden_size, 1))  # Cell state\n",
    "\n",
    "    def forward(self, x_t):\n",
    "        # Concatenate input and previous hidden state\n",
    "        concat = np.vstack((self.h_t, x_t))\n",
    "\n",
    "        # Forget gate\n",
    "        f_t = sigmoid(np.dot(self.W_f, concat) + self.b_f)\n",
    "        \n",
    "        # Input gate\n",
    "        i_t = sigmoid(np.dot(self.W_i, concat) + self.b_i)\n",
    "        \n",
    "        # Candidate cell state\n",
    "        C_tilde_t = tanh(np.dot(self.W_c, concat) + self.b_c)\n",
    "        \n",
    "        # Update cell state\n",
    "        self.C_t = f_t * self.C_t + i_t * C_tilde_t\n",
    "        \n",
    "        # Output gate\n",
    "        o_t = sigmoid(np.dot(self.W_o, concat) + self.b_o)\n",
    "        \n",
    "        # Update hidden state\n",
    "        self.h_t = o_t * tanh(self.C_t)\n",
    "        \n",
    "        return self.h_t\n",
    "\n",
    "# Example usage of LSTM\n",
    "input_size = 3  # Number of input features (e.g., stock prices)\n",
    "hidden_size = 5  # Number of LSTM units in the hidden layer\n",
    "sequence_length = 10  # Length of time series\n",
    "\n",
    "# Create an LSTM instance\n",
    "lstm = LSTM(input_size, hidden_size)\n",
    "\n",
    "# Simulate input sequence\n",
    "np.random.seed(42)\n",
    "sequence = [np.random.randn(input_size, 1) for _ in range(sequence_length)]\n",
    "\n",
    "# Forward pass through the sequence\n",
    "outputs = []\n",
    "for x_t in sequence:\n",
    "    h_t = lstm.forward(x_t)\n",
    "    outputs.append(h_t)\n",
    "\n",
    "# Print the final hidden state after the last time step\n",
    "print(\"Final hidden state:\", outputs[-1])"
   ]
  },
  {
   "cell_type": "code",
   "execution_count": null,
   "id": "75ead780-e892-4756-925a-900c474dd308",
   "metadata": {},
   "outputs": [],
   "source": []
  }
 ],
 "metadata": {
  "kernelspec": {
   "display_name": "Python 3 (ipykernel)",
   "language": "python",
   "name": "python3"
  },
  "language_info": {
   "codemirror_mode": {
    "name": "ipython",
    "version": 3
   },
   "file_extension": ".py",
   "mimetype": "text/x-python",
   "name": "python",
   "nbconvert_exporter": "python",
   "pygments_lexer": "ipython3",
   "version": "3.12.4"
  }
 },
 "nbformat": 4,
 "nbformat_minor": 5
}
